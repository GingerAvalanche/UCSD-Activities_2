{
 "cells": [
  {
   "cell_type": "code",
   "execution_count": 14,
   "metadata": {},
   "outputs": [],
   "source": [
    "# Dependencies\n",
    "import requests\n",
    "\n",
    "url = \"http://api.worldbank.org/v2/\""
   ]
  },
  {
   "cell_type": "code",
   "execution_count": 15,
   "metadata": {},
   "outputs": [
    {
     "data": {
      "text/plain": [
       "['IBD', 'IDB', 'IDX', 'LNX']"
      ]
     },
     "execution_count": 15,
     "metadata": {},
     "output_type": "execute_result"
    }
   ],
   "source": [
    "# Get the list of lending types the world bank has\n",
    "lend_types_json = requests.get(f\"{url}lendingtypes?format=json\").json()\n",
    "lend_types = [t['id'] for t in lend_types_json[1]]\n",
    "lend_types"
   ]
  },
  {
   "cell_type": "code",
   "execution_count": 22,
   "metadata": {},
   "outputs": [],
   "source": [
    "# Next, determine how many countries fall into each lending type.\n",
    "# Hint: Look at the first element of the response array.\n",
    "d = {t: 0 for t in lend_types}\n",
    "\n",
    "countries_response = requests.get(f\"{url}countries?format=json&per_page=299\").json()\n",
    "for country in countries_response[1]:\n",
    "    if country[\"lendingType\"][\"id\"] not in d: # why are there a bunch of countries with lending types that aren't defined?\n",
    "        d[country[\"lendingType\"][\"id\"]] = 0\n",
    "    d[country[\"lendingType\"][\"id\"]] += 1\n",
    "    "
   ]
  },
  {
   "cell_type": "code",
   "execution_count": 23,
   "metadata": {},
   "outputs": [
    {
     "name": "stdout",
     "output_type": "stream",
     "text": [
      "The number of countries with lending type IBD is 69\n",
      "The number of countries with lending type IDB is 15\n",
      "The number of countries with lending type IDX is 60\n",
      "The number of countries with lending type LNX is 74\n",
      "The number of countries with lending type  is 81\n"
     ]
    }
   ],
   "source": [
    "# Print the number of countries of each lending type\n",
    "for t, count in d.items():\n",
    "    print(f\"The number of countries with lending type {t} is {count}\")"
   ]
  }
 ],
 "metadata": {
  "kernelspec": {
   "display_name": "Python 3 (ipykernel)",
   "language": "python",
   "name": "python3"
  },
  "language_info": {
   "codemirror_mode": {
    "name": "ipython",
    "version": 3
   },
   "file_extension": ".py",
   "mimetype": "text/x-python",
   "name": "python",
   "nbconvert_exporter": "python",
   "pygments_lexer": "ipython3",
   "version": "3.10.11"
  },
  "varInspector": {
   "cols": {
    "lenName": 16,
    "lenType": 16,
    "lenVar": 40
   },
   "kernels_config": {
    "python": {
     "delete_cmd_postfix": "",
     "delete_cmd_prefix": "del ",
     "library": "var_list.py",
     "varRefreshCmd": "print(var_dic_list())"
    },
    "r": {
     "delete_cmd_postfix": ") ",
     "delete_cmd_prefix": "rm(",
     "library": "var_list.r",
     "varRefreshCmd": "cat(var_dic_list()) "
    }
   },
   "types_to_exclude": [
    "module",
    "function",
    "builtin_function_or_method",
    "instance",
    "_Feature"
   ],
   "window_display": false
  }
 },
 "nbformat": 4,
 "nbformat_minor": 2
}
