{
 "cells": [
  {
   "cell_type": "code",
   "execution_count": 1,
   "metadata": {},
   "outputs": [],
   "source": [
    "# Dependencies\n",
    "import json\n",
    "import requests \n",
    "from pprint import pprint"
   ]
  },
  {
   "cell_type": "code",
   "execution_count": 2,
   "metadata": {},
   "outputs": [
    {
     "data": {
      "text/plain": [
       "200"
      ]
     },
     "execution_count": 2,
     "metadata": {},
     "output_type": "execute_result"
    }
   ],
   "source": [
    "# Specify the URL\n",
    "url = \"https://static.bc-edx.com/data/dl-1-2/m6/lessons/2/request_review.json\"\n",
    "\n",
    "# Make request and store response\n",
    "response = requests.get(url)\n",
    "\n",
    "# Verify status code\n",
    "response.status_code"
   ]
  },
  {
   "cell_type": "code",
   "execution_count": 3,
   "metadata": {},
   "outputs": [],
   "source": [
    "# JSON-ify response\n",
    "response_json = response.json()"
   ]
  },
  {
   "cell_type": "code",
   "execution_count": 7,
   "metadata": {
    "scrolled": true
   },
   "outputs": [
    {
     "name": "stdout",
     "output_type": "stream",
     "text": [
      "{'common_name': 'Tiger cat',\n",
      " 'id': 1,\n",
      " 'info': 'Curabitur at ipsum ac tellus semper interdum. Mauris ullamcorper '\n",
      "         'purus sit amet nulla. Quisque arcu libero, rutrum ac, lobortis vel, '\n",
      "         'dapibus at, diam.',\n",
      " 'location': 'Russia',\n",
      " 'scientific_name': 'Dasyurus maculatus'}\n",
      "{'common_name': 'Sloth, two-toed tree',\n",
      " 'id': 1000,\n",
      " 'info': 'Curabitur in libero ut massa volutpat convallis. Morbi odio odio, '\n",
      "         'elementum eu, interdum eu, tincidunt in, leo. Maecenas pulvinar '\n",
      "         'lobortis est.\\n'\n",
      "         '\\n'\n",
      "         'Phasellus sit amet erat. Nulla tempus. Vivamus in felis eu sapien '\n",
      "         'cursus vestibulum.',\n",
      " 'location': 'United States',\n",
      " 'scientific_name': 'Choloepus hoffmani'}\n"
     ]
    }
   ],
   "source": [
    "# Print first and last articles\n",
    "pprint(response_json[0])\n",
    "pprint(response_json[-1])"
   ]
  },
  {
   "cell_type": "code",
   "execution_count": 8,
   "metadata": {},
   "outputs": [
    {
     "name": "stdout",
     "output_type": "stream",
     "text": [
      "We received 1000 responses.\n"
     ]
    }
   ],
   "source": [
    "# Print the number of responses\n",
    "print(f\"We received {len(response_json)} responses.\")"
   ]
  },
  {
   "cell_type": "code",
   "execution_count": null,
   "metadata": {},
   "outputs": [],
   "source": []
  }
 ],
 "metadata": {
  "kernelspec": {
   "display_name": "Python 3 (ipykernel)",
   "language": "python",
   "name": "python3"
  },
  "language_info": {
   "codemirror_mode": {
    "name": "ipython",
    "version": 3
   },
   "file_extension": ".py",
   "mimetype": "text/x-python",
   "name": "python",
   "nbconvert_exporter": "python",
   "pygments_lexer": "ipython3",
   "version": "3.10.11"
  },
  "varInspector": {
   "cols": {
    "lenName": 16,
    "lenType": 16,
    "lenVar": 40
   },
   "kernels_config": {
    "python": {
     "delete_cmd_postfix": "",
     "delete_cmd_prefix": "del ",
     "library": "var_list.py",
     "varRefreshCmd": "print(var_dic_list())"
    },
    "r": {
     "delete_cmd_postfix": ") ",
     "delete_cmd_prefix": "rm(",
     "library": "var_list.r",
     "varRefreshCmd": "cat(var_dic_list()) "
    }
   },
   "types_to_exclude": [
    "module",
    "function",
    "builtin_function_or_method",
    "instance",
    "_Feature"
   ],
   "window_display": false
  }
 },
 "nbformat": 4,
 "nbformat_minor": 4
}
