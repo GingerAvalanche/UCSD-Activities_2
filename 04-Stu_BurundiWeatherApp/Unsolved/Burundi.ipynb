{
 "cells": [
  {
   "cell_type": "code",
   "execution_count": 1,
   "metadata": {},
   "outputs": [],
   "source": [
    "### NOTE: I couldn't get my api key to work properly. My account page said it was active,\n",
    "### but it resulted in code 401: Invalid API Key every time. I wrote the code based on the\n",
    "### example responses in the API docs, but was never able to test it. It should work, though\n",
    "\n",
    "# Dependencies\n",
    "import requests\n",
    "from config import api_key\n",
    "\n",
    "# Save config information.\n",
    "url = f\"https://api.openweathermap.org/data/2.5/weather?appid={api_key}\"\n",
    "city = \"Bujumbura\""
   ]
  },
  {
   "cell_type": "code",
   "execution_count": 2,
   "metadata": {},
   "outputs": [
    {
     "data": {
      "text/plain": [
       "{'coord': {'lon': 29.3644, 'lat': -3.3822},\n",
       " 'weather': [{'id': 804,\n",
       "   'main': 'Clouds',\n",
       "   'description': 'overcast clouds',\n",
       "   'icon': '04n'}],\n",
       " 'base': 'stations',\n",
       " 'main': {'temp': 23.62,\n",
       "  'feels_like': 24.05,\n",
       "  'temp_min': 23.62,\n",
       "  'temp_max': 23.62,\n",
       "  'pressure': 1016,\n",
       "  'humidity': 77,\n",
       "  'sea_level': 1016,\n",
       "  'grnd_level': 927},\n",
       " 'visibility': 10000,\n",
       " 'wind': {'speed': 0.28, 'deg': 81, 'gust': 1.33},\n",
       " 'clouds': {'all': 86},\n",
       " 'dt': 1686860356,\n",
       " 'sys': {'country': 'BI', 'sunrise': 1686801911, 'sunset': 1686844846},\n",
       " 'timezone': 7200,\n",
       " 'id': 425378,\n",
       " 'name': 'Bujumbura',\n",
       " 'cod': 200}"
      ]
     },
     "execution_count": 2,
     "metadata": {},
     "output_type": "execute_result"
    }
   ],
   "source": [
    "# Build query URL and request your results in Celsius\n",
    "base_query_url = f\"{url}&q={city}&units=\"\n",
    "query_url = f\"{base_query_url}metric\"\n",
    "\n",
    "# Get weather data\n",
    "weather_json = requests.get(query_url).json()\n",
    "weather_json"
   ]
  },
  {
   "cell_type": "code",
   "execution_count": 3,
   "metadata": {},
   "outputs": [],
   "source": [
    "# Get temperature from JSON response\n",
    "temp = weather_json[\"main\"][\"temp\"]"
   ]
  },
  {
   "cell_type": "code",
   "execution_count": 4,
   "metadata": {},
   "outputs": [
    {
     "name": "stdout",
     "output_type": "stream",
     "text": [
      "The temperature in Bujumbura is 23.62 C.\n"
     ]
    }
   ],
   "source": [
    "# Report temperature\n",
    "print(f\"The temperature in {city} is {temp} C.\")"
   ]
  },
  {
   "cell_type": "code",
   "execution_count": 5,
   "metadata": {},
   "outputs": [
    {
     "name": "stdout",
     "output_type": "stream",
     "text": [
      "The temperature in Bujumbura is 23.62C or 74.52F.\n"
     ]
    }
   ],
   "source": [
    "# BONUS\n",
    "\n",
    "# use list of units\n",
    "units = [\"metric\", \"imperial\"]\n",
    "\n",
    "# set up list to hold two different temperatures\n",
    "temps = []\n",
    "\n",
    "# loop through the list of units and append them to temperatures list\n",
    "for unit in units:\n",
    "    # Build query URL based on current element in units\n",
    "    query_url = f\"{base_query_url}{unit}\"\n",
    "\n",
    "    # Get weather data\n",
    "    weather_json = requests.get(query_url).json()\n",
    "\n",
    "    # Get temperature from JSON response\n",
    "    temps.append(weather_json[\"main\"][\"temp\"])\n",
    "\n",
    "\n",
    "# Report temperatures by accessing each element in the list\n",
    "print(f\"The temperature in {city} is {temps[0]}C or {temps[1]}F.\")"
   ]
  }
 ],
 "metadata": {
  "kernelspec": {
   "display_name": "Python 3 (ipykernel)",
   "language": "python",
   "name": "python3"
  },
  "language_info": {
   "codemirror_mode": {
    "name": "ipython",
    "version": 3
   },
   "file_extension": ".py",
   "mimetype": "text/x-python",
   "name": "python",
   "nbconvert_exporter": "python",
   "pygments_lexer": "ipython3",
   "version": "3.10.11"
  },
  "varInspector": {
   "cols": {
    "lenName": 16,
    "lenType": 16,
    "lenVar": 40
   },
   "kernels_config": {
    "python": {
     "delete_cmd_postfix": "",
     "delete_cmd_prefix": "del ",
     "library": "var_list.py",
     "varRefreshCmd": "print(var_dic_list())"
    },
    "r": {
     "delete_cmd_postfix": ") ",
     "delete_cmd_prefix": "rm(",
     "library": "var_list.r",
     "varRefreshCmd": "cat(var_dic_list()) "
    }
   },
   "types_to_exclude": [
    "module",
    "function",
    "builtin_function_or_method",
    "instance",
    "_Feature"
   ],
   "window_display": false
  }
 },
 "nbformat": 4,
 "nbformat_minor": 2
}
